{
  "nbformat": 4,
  "nbformat_minor": 0,
  "metadata": {
    "colab": {
      "provenance": [],
      "authorship_tag": "ABX9TyNZ+ZDbuVrzroXRG5hNumyB",
      "include_colab_link": true
    },
    "kernelspec": {
      "name": "python3",
      "display_name": "Python 3"
    },
    "language_info": {
      "name": "python"
    }
  },
  "cells": [
    {
      "cell_type": "markdown",
      "metadata": {
        "id": "view-in-github",
        "colab_type": "text"
      },
      "source": [
        "<a href=\"https://colab.research.google.com/github/flo-s99/ABA/blob/main/Session1.ipynb\" target=\"_parent\"><img src=\"https://colab.research.google.com/assets/colab-badge.svg\" alt=\"Open In Colab\"/></a>"
      ]
    },
    {
      "cell_type": "code",
      "execution_count": null,
      "metadata": {
        "id": "wWx-aNlR81Fr"
      },
      "outputs": [],
      "source": [
        "import numpy as np\n",
        "import pandas as pd \n",
        "import matplotlib.pyplot as plt"
      ]
    },
    {
      "cell_type": "code",
      "source": [
        "string_eins = \"Hallo vom Oskar-Morgen-Stern Platz!\"\n",
        "string_zwei = \"Hallo ihr Marsbewohner! Habt ihr Python im Einsatz?\"\n"
      ],
      "metadata": {
        "id": "1PVCWLySAgx-"
      },
      "execution_count": null,
      "outputs": []
    },
    {
      "cell_type": "markdown",
      "source": [
        "string_eins[3]\n",
        "\n",
        "string_eins.capitalize()\n",
        "\n",
        "string_eins.lower()\n",
        "\n",
        "string_eins.count(\"e\")\n",
        "\n",
        "string_eins.find(\"e\")\n",
        "\n",
        "string_eins + string_zwei\n",
        "\n",
        "string_zwei[4:12]\n",
        "\n",
        "string_zwei.lower()\n",
        "\n",
        "string_zwei.replace(\"H\",\"J\")\n"
      ],
      "metadata": {
        "id": "qr08kuSpAu8J"
      }
    },
    {
      "cell_type": "code",
      "source": [
        "print(string_eins[3])"
      ],
      "metadata": {
        "colab": {
          "base_uri": "https://localhost:8080/"
        },
        "id": "nBB63V5uAgnT",
        "outputId": "ebc6ea1f-7a3a-4917-c1ad-39680f5c1c6a"
      },
      "execution_count": null,
      "outputs": [
        {
          "output_type": "stream",
          "name": "stdout",
          "text": [
            "l\n"
          ]
        }
      ]
    },
    {
      "cell_type": "code",
      "source": [
        "print(string_eins.capitalize())"
      ],
      "metadata": {
        "colab": {
          "base_uri": "https://localhost:8080/"
        },
        "id": "cZME0R0YAgVO",
        "outputId": "ef9c74b5-1b49-4e58-b9a6-f08506069b36"
      },
      "execution_count": null,
      "outputs": [
        {
          "output_type": "stream",
          "name": "stdout",
          "text": [
            "Hallo vom oskar-morgen-stern platz!\n"
          ]
        }
      ]
    },
    {
      "cell_type": "code",
      "source": [
        "print(string_eins.lower())"
      ],
      "metadata": {
        "colab": {
          "base_uri": "https://localhost:8080/"
        },
        "id": "pbG8ybLCA7vc",
        "outputId": "840d3c7c-f09a-43f0-d503-6f460896f8ac"
      },
      "execution_count": null,
      "outputs": [
        {
          "output_type": "stream",
          "name": "stdout",
          "text": [
            "hallo vom oskar-morgen-stern platz!\n"
          ]
        }
      ]
    },
    {
      "cell_type": "code",
      "source": [
        "print(string_eins.count(\"e\"))"
      ],
      "metadata": {
        "colab": {
          "base_uri": "https://localhost:8080/"
        },
        "id": "qkzFxYjFA7qr",
        "outputId": "92acd718-5985-47d4-c84d-5b2017965a88"
      },
      "execution_count": null,
      "outputs": [
        {
          "output_type": "stream",
          "name": "stdout",
          "text": [
            "2\n"
          ]
        }
      ]
    },
    {
      "cell_type": "code",
      "source": [
        "print(string_eins.find(\"e\"))"
      ],
      "metadata": {
        "colab": {
          "base_uri": "https://localhost:8080/"
        },
        "id": "goRvvvzgA7nY",
        "outputId": "cc727d99-5b19-4b89-eb35-8353b725705c"
      },
      "execution_count": null,
      "outputs": [
        {
          "output_type": "stream",
          "name": "stdout",
          "text": [
            "20\n"
          ]
        }
      ]
    },
    {
      "cell_type": "code",
      "source": [
        "print(string_eins + string_zwei)"
      ],
      "metadata": {
        "colab": {
          "base_uri": "https://localhost:8080/"
        },
        "id": "C12y_XpQA7j9",
        "outputId": "eeedb2a6-41a8-48d5-aae7-c0af5f5cb7ec"
      },
      "execution_count": null,
      "outputs": [
        {
          "output_type": "stream",
          "name": "stdout",
          "text": [
            "Hallo vom Oskar-Morgen-Stern Platz!Hallo ihr Marsbewohner! Habt ihr Python im Einsatz?\n"
          ]
        }
      ]
    },
    {
      "cell_type": "code",
      "source": [
        "print(string_zwei[4:12])"
      ],
      "metadata": {
        "colab": {
          "base_uri": "https://localhost:8080/"
        },
        "id": "2xmYfuF3A7hp",
        "outputId": "c8bfbe75-fc87-4977-8c67-04da70faf1db"
      },
      "execution_count": null,
      "outputs": [
        {
          "output_type": "stream",
          "name": "stdout",
          "text": [
            "o ihr Ma\n"
          ]
        }
      ]
    },
    {
      "cell_type": "code",
      "source": [
        "print(string_zwei.lower())"
      ],
      "metadata": {
        "colab": {
          "base_uri": "https://localhost:8080/"
        },
        "id": "GWeMwXPbA7TV",
        "outputId": "873673ff-ad3d-41a8-8b66-341ece6894fa"
      },
      "execution_count": null,
      "outputs": [
        {
          "output_type": "stream",
          "name": "stdout",
          "text": [
            "hallo ihr marsbewohner! habt ihr python im einsatz?\n"
          ]
        }
      ]
    },
    {
      "cell_type": "code",
      "source": [
        "print(string_zwei.replace(\"H\",\"J\"))"
      ],
      "metadata": {
        "colab": {
          "base_uri": "https://localhost:8080/"
        },
        "id": "FAps_qKQA7A2",
        "outputId": "43dfa019-a2c3-42b5-80b5-5c8ee3cc66fc"
      },
      "execution_count": null,
      "outputs": [
        {
          "output_type": "stream",
          "name": "stdout",
          "text": [
            "Jallo ihr Marsbewohner! Jabt ihr Python im Einsatz?\n"
          ]
        }
      ]
    },
    {
      "cell_type": "code",
      "source": [
        "liste = ['Storch', 'Orange', 33, 'Python', 2.18 ]"
      ],
      "metadata": {
        "id": "dyVqZMTeBYLy"
      },
      "execution_count": null,
      "outputs": []
    },
    {
      "cell_type": "code",
      "source": [
        "print(\"Initial list:\", liste)\n",
        "liste[2] = 666\n",
        "print(\"List after setting element at index 2 to 666:\", liste)\n",
        "print(\"Length of list:\", len(liste))\n",
        "liste.append('Ni')\n",
        "print(\"List after appending 'Ni':\", liste)\n",
        "liste.extend([4, 5, 3.14])\n",
        "print(\"List after extending with [4, 5, 3.14]:\", liste)\n",
        "liste.insert(2, 'Taube')\n",
        "print(\"List after inserting 'Taube' at index 2:\", liste)\n",
        "print(\"Number of occurrences of 3.14 in list:\", liste.count(3.14))\n",
        "print(\"Index of first occurrence of 3.14 in list:\", liste.index(3.14))\n",
        "liste.remove(3.14)\n",
        "print(\"List after removing first occurrence of 3.14:\", liste)\n",
        "popped_element = liste.pop()\n",
        "print(\"Popped element:\", popped_element)\n",
        "liste.reverse()\n",
        "print(\"List after reversing:\", liste)"
      ],
      "metadata": {
        "colab": {
          "base_uri": "https://localhost:8080/"
        },
        "id": "qJbLYeEzBdOo",
        "outputId": "9878a96a-6534-4e2d-daef-08461605a979"
      },
      "execution_count": null,
      "outputs": [
        {
          "output_type": "stream",
          "name": "stdout",
          "text": [
            "Initial list: [4, 'Ni', 2.18, 'Python', 666, 'Taube', 'Orange', 'Storch']\n",
            "List after setting element at index 2 to 666: [4, 'Ni', 666, 'Python', 666, 'Taube', 'Orange', 'Storch']\n",
            "Length of list: 8\n",
            "List after appending 'Ni': [4, 'Ni', 666, 'Python', 666, 'Taube', 'Orange', 'Storch', 'Ni']\n",
            "List after extending with [4, 5, 3.14]: [4, 'Ni', 666, 'Python', 666, 'Taube', 'Orange', 'Storch', 'Ni', 4, 5, 3.14]\n",
            "List after inserting 'Taube' at index 2: [4, 'Ni', 'Taube', 666, 'Python', 666, 'Taube', 'Orange', 'Storch', 'Ni', 4, 5, 3.14]\n",
            "Number of occurrences of 3.14 in list: 1\n",
            "Index of first occurrence of 3.14 in list: 12\n",
            "List after removing first occurrence of 3.14: [4, 'Ni', 'Taube', 666, 'Python', 666, 'Taube', 'Orange', 'Storch', 'Ni', 4, 5]\n",
            "Popped element: 5\n",
            "List after reversing: [4, 'Ni', 'Storch', 'Orange', 'Taube', 666, 'Python', 666, 'Taube', 'Ni', 4]\n"
          ]
        }
      ]
    },
    {
      "cell_type": "code",
      "source": [
        "x = 15\n",
        "y = 4\n",
        "print('x + y =',x+y) # sum of x and y\n",
        "print('x - y =',x-y) # diff of x and y\n",
        "print('x * y =',x*y)# product of x and y\n",
        "print('x / y =',x/y)# x divided by y\n",
        "print('x // y =',x//y)# x divided by 3, give out int instead of float\n",
        "print('x ** y =',x**y)# x superscript y\n",
        "x = 10\n",
        "y = 12\n",
        "print('x > y  is',x>y) # x bigger y?\n",
        "print('x < y  is',x<y) # x smaller y?\n",
        "print('x == y is',x==y) # x gleich y?\n",
        "print('x != y is',x!=y) # x. ungleich y?\n",
        "print('x >= y is',x>=y) # x bigger oder gleich y?\n",
        "print('x <= y is',x<=y)\n"
      ],
      "metadata": {
        "colab": {
          "base_uri": "https://localhost:8080/"
        },
        "id": "NG4mGAP5CvOv",
        "outputId": "6f61f2a1-b659-457a-c027-39a637aca3b7"
      },
      "execution_count": null,
      "outputs": [
        {
          "output_type": "stream",
          "name": "stdout",
          "text": [
            "x + y = 19\n",
            "x - y = 11\n",
            "x * y = 60\n",
            "x / y = 3.75\n",
            "x // y = 3\n",
            "x ** y = 50625\n",
            "x > y  is False\n",
            "x < y  is True\n",
            "x == y is False\n",
            "x != y is True\n",
            "x >= y is False\n",
            "x <= y is True\n"
          ]
        }
      ]
    },
    {
      "cell_type": "markdown",
      "source": [
        "Eingabe zur Frage: „Findest du Python toll?“\n",
        "Wenn Eingabe gleich \"ja\" oder \"jep\"\n",
        "\tAusgabe: „Sehr gut! Ich auch!“\n",
        "Sonst\n",
        "\tAusgabe: „Das glaube ich dir nicht!“\n"
      ],
      "metadata": {
        "id": "nNa6eZF4C6uu"
      }
    },
    {
      "cell_type": "code",
      "source": [
        "i = print(input(\"Magst du Python?\"))\n",
        "if i == \"ja\" or \"jep\":\n",
        "  print(\"Very good. Me too\")\n",
        "# elif i == \"jep\":\n",
        "#   print(\"Very good. Me too\")\n",
        "else:\n",
        "  print(\"Das glaube ich dir nicht!\")"
      ],
      "metadata": {
        "colab": {
          "base_uri": "https://localhost:8080/"
        },
        "id": "AkgArcjbC8pc",
        "outputId": "40d8bc8f-b4b1-4b9d-d0bb-8e7e9881311d"
      },
      "execution_count": null,
      "outputs": [
        {
          "output_type": "stream",
          "name": "stdout",
          "text": [
            "Magst du Python?jep\n",
            "jep\n",
            "Very good. Me too\n"
          ]
        }
      ]
    },
    {
      "cell_type": "markdown",
      "source": [
        "Aufgabe 5\n",
        "Gegeben ist folgende Tabelle bezüglich Luftdruck, Lufttemperatur und Jahreszeit. Aufgrund dieser Parameter wird eine Empfehlung in Textform ausgegeben. Schreiben Sie den Code in Python, der diese Tabelle nach der Eingabe der 3 Parameter abfragt und die Empfehlung ausgibt. Wenn die Eingabe nicht übereinstimmt soll ein Standardtext erscheinen.\n",
        "\n",
        "\n",
        "Luftdruck\tsteigt\tsteigt\tfällt\tfällt\n",
        "Lufttemperatur\tsteigt\tfällt\tsteigt\tfällt\n",
        "Jahreszeit\tSommer\tWinter\tSommer\tWinter\n",
        "Empfehlung\tText 1\tText 2\tText 3\tText 4\n",
        "•\tText 1: \"Pack die Badehose ein, nimm dein kleines Schwesterlein ...\"\n",
        "•\tText 2: \"I wü, Schifoarn, foarn, foarn ...\"\n",
        "•\tText 3: \"I'm singing in the rain ...\"\n",
        "•\tText 4: \"Leise rieselt der Schnee ...\"\n",
        "•\tSonst: \"Nichts Genaues weiß man nicht!\"\n"
      ],
      "metadata": {
        "id": "zxyj6pwzJ4U6"
      }
    },
    {
      "cell_type": "code",
      "source": [
        "# Eingabe der Parameter\n",
        "luftdruck = input(\"Luftdruck (steigt/fällt): \")\n",
        "lufttemperatur = input(\"Lufttemperatur (steigt/fällt): \")\n",
        "jahreszeit = input(\"Jahreszeit (Sommer/Winter): \")\n",
        "\n",
        "# Ausgabe der Empfehlung basierend auf den Eingaben\n",
        "if luftdruck == \"steigt\" and lufttemperatur == \"steigt\" and jahreszeit == \"Sommer\":\n",
        "    print(\"Pack die Badehose ein, nimm dein kleines Schwesterlein ...\")\n",
        "elif luftdruck == \"fällt\" and lufttemperatur == \"fällt\" and jahreszeit == \"Winter\":\n",
        "    print(\"Leise rieselt der Schnee ...\")\n",
        "elif luftdruck == \"steigt\" and lufttemperatur == \"fällt\" and jahreszeit == \"Sommer\":\n",
        "    print(\"Nichts Genaues weiß man nicht!\")\n",
        "elif luftdruck == \"fällt\" and lufttemperatur == \"steigt\" and jahreszeit == \"Winter\":\n",
        "    print(\"I wü, Schifoarn, foarn, foarn ...\")\n",
        "elif luftdruck == \"fällt\" and lufttemperatur == \"steigt\" and jahreszeit == \"Sommer\":\n",
        "    print(\"Nichts Genaues weiß man nicht!\")\n",
        "elif luftdruck == \"steigt\" and lufttemperatur == \"fällt\" and jahreszeit == \"Winter\":\n",
        "    print(\"Nichts Genaues weiß man nicht!\")\n",
        "elif luftdruck == \"fällt\" and lufttemperatur == \"fällt\" and jahreszeit == \"Sommer\":\n",
        "    print(\"I'm singing in the rain ...\")\n",
        "else:\n",
        "    print(\"Nichts Genaues weiß man nicht!\")"
      ],
      "metadata": {
        "colab": {
          "base_uri": "https://localhost:8080/"
        },
        "id": "kJ1jqT-OJ3JI",
        "outputId": "341c2ae2-b44c-4794-a26d-89bc47c08c47"
      },
      "execution_count": null,
      "outputs": [
        {
          "output_type": "stream",
          "name": "stdout",
          "text": [
            "Bitte Luftdruck beschreiben:steigt\n",
            "steigt\n",
            "Bitte Lufttemperatur beschreiben:steigt\n",
            "steigt\n",
            "Bitte Jahreszeit beschreiben:Sommer\n",
            "Sommer\n"
          ]
        }
      ]
    },
    {
      "cell_type": "code",
      "source": [
        "password = \"geheim\"\n",
        "\n",
        "for i in range(3):\n",
        "    guess = input(\"Bitte geben Sie das Passwort ein: \")\n",
        "    if guess == password:\n",
        "        print(\"Willkommen auf dem Server BigMac\")\n",
        "        break\n",
        "    else:\n",
        "        print(\"Falsches Passwort\")\n",
        "else:\n",
        "    print(\"Sooooo wird das nichts!\")"
      ],
      "metadata": {
        "colab": {
          "base_uri": "https://localhost:8080/"
        },
        "id": "H0eTCQE_MdI5",
        "outputId": "c9239fed-c23a-4714-9eb3-9494a422f443"
      },
      "execution_count": null,
      "outputs": [
        {
          "output_type": "stream",
          "name": "stdout",
          "text": [
            "Bitte geben Sie das Passwort ein: hi\n",
            "Falsches Passwort\n",
            "Bitte geben Sie das Passwort ein: hi\n",
            "Falsches Passwort\n",
            "Bitte geben Sie das Passwort ein: hi\n",
            "Falsches Passwort\n",
            "Sooooo wird das nichts!\n"
          ]
        }
      ]
    },
    {
      "cell_type": "code",
      "source": [
        "# Eingabe des Bruttoeinkommens\n",
        "einkommen = float(input(\"Geben Sie Ihr Bruttoeinkommen in Euro ein: \")\n",
        "\n",
        "\n",
        "# Berechnung des Steuersatzes\n",
        "if einkommen <= 11000:\n",
        "    steuersatz = 0\n",
        "elif einkommen <= 18000:\n",
        "    steuersatz = 0.25\n",
        "elif einkommen <= 31000:\n",
        "    steuersatz = 0.35\n",
        "elif einkommen <= 60000:\n",
        "    steuersatz = 0.42\n",
        "elif einkommen <= 90000:\n",
        "    steuersatz = 0.48\n",
        "elif einkommen <= 1000000:\n",
        "    steuersatz = 0.5\n",
        "else:\n",
        "    steuersatz = 0.55\n",
        "\n",
        "# Berechnung des Steuerbetrags\n",
        "steuerbetrag = einkommen * steuersatz\n",
        "\n",
        "# Ausgabe des Ergebnisses\n",
        "print(\"Das Bruttoeinkommen beträgt:\", einkommen, \"Euro\")\n",
        "print(\"Der Steuersatz beträgt:\", steuersatz*100, \"%\")\n",
        "print(\"Der zu zahlende Steuerbetrag beträgt:\", steuerbetrag, \"Euro\")\n"
      ],
      "metadata": {
        "colab": {
          "base_uri": "https://localhost:8080/"
        },
        "id": "LxSwTQSCM_5D",
        "outputId": "64db2d68-3d7b-42e1-de76-4706f3e80b92"
      },
      "execution_count": null,
      "outputs": [
        {
          "output_type": "stream",
          "name": "stdout",
          "text": [
            "Geben Sie Ihr Bruttoeinkommen in Euro ein: 40000\n",
            "Das Bruttoeinkommen beträgt: 40000.0 Euro\n",
            "Der Steuersatz beträgt: 42.0 %\n",
            "Der zu zahlende Steuerbetrag beträgt: 16800.0 Euro\n"
          ]
        }
      ]
    },
    {
      "cell_type": "markdown",
      "source": [
        "Luftdruck: steigt, steigt, fällt, fällt\n",
        "Lufttemperatur: steigt, fällt, steigt, fällt\n",
        "Jahreszeit: Sommer, Winter, Sommer, Winter\n",
        "Empfehlung: Text 1, Text 2, Text3, Text 4"
      ],
      "metadata": {
        "id": "lB8OuyO3NmbX"
      }
    },
    {
      "cell_type": "code",
      "source": [
        "for zahl in [4,5,7,11,21]:\n",
        "    summe = zahl + 2\n",
        "    print(\"Wenn ich zu\", zahl, \"zwei addiere, erhalte ich\", summe)\n",
        "print(\"Ich bin fertig!\")\n"
      ],
      "metadata": {
        "colab": {
          "base_uri": "https://localhost:8080/"
        },
        "id": "BrhtFWTUNSwb",
        "outputId": "7c5a6864-8cfe-4e72-e3f7-79ce069db484"
      },
      "execution_count": null,
      "outputs": [
        {
          "output_type": "stream",
          "name": "stdout",
          "text": [
            "Wenn ich zu 4 zwei addiere, erhalte ich 6\n",
            "Wenn ich zu 5 zwei addiere, erhalte ich 7\n",
            "Wenn ich zu 7 zwei addiere, erhalte ich 9\n",
            "Wenn ich zu 11 zwei addiere, erhalte ich 13\n",
            "Wenn ich zu 21 zwei addiere, erhalte ich 23\n",
            "Ich bin fertig!\n"
          ]
        }
      ]
    },
    {
      "cell_type": "code",
      "source": [
        "# Leere Liste erstellen\n",
        "zahlen = []\n",
        "\n",
        "# Endlosschleife\n",
        "while True:\n",
        "    # Eingabeaufforderung\n",
        "    eingabe = input(\"Geben Sie eine Zahl ein (q zum Beenden): \")\n",
        "    \n",
        "    # Prüfen, ob der Benutzer das Programm beenden möchte\n",
        "    if eingabe == \"q\":\n",
        "        break\n",
        "    \n",
        "    # Versuchen, die Eingabe in eine Zahl zu konvertieren und zur Liste hinzufügen\n",
        "    try:\n",
        "        zahl = int(eingabe)\n",
        "        zahlen.append(zahl)\n",
        "    except ValueError:\n",
        "        print(\"Ungültige Eingabe. Bitte geben Sie eine ganze Zahl ein.\")\n",
        "        continue\n",
        "    \n",
        "    # Liste aufsteigend sortieren\n",
        "    zahlen.sort()\n",
        "    \n",
        "    # Ausgabe der sortierten Liste\n",
        "    print(\"Sortierte Liste:\", zahlen)\n"
      ],
      "metadata": {
        "id": "rTXs9HmZNdUg"
      },
      "execution_count": null,
      "outputs": []
    },
    {
      "cell_type": "code",
      "source": [
        "# Initialisieren der Summe mit 0\n",
        "summe = 0\n",
        "\n",
        "# Schleife von 1 bis 100\n",
        "for zahl in range(1, 101):\n",
        "    # Die aktuelle Zahl zur Summe hinzufügen\n",
        "    summe += zahl\n",
        "\n",
        "# Ausgabe der Summe\n",
        "print(\"Die Summe von 1 bis 100 ist:\", summe)\n"
      ],
      "metadata": {
        "id": "hug-KneRODli"
      },
      "execution_count": null,
      "outputs": []
    },
    {
      "cell_type": "code",
      "source": [
        "def fahrenheit(T_in_celsius):\n",
        "\tprint(t, \": \", (T_in_celsius * 9 / 5) + 32)\n",
        "\n",
        "for t in (22.6, 25.8, 27.3, 29.8):\n",
        "    fahrenheit(t)\n",
        "\n"
      ],
      "metadata": {
        "colab": {
          "base_uri": "https://localhost:8080/"
        },
        "id": "qDWHbMdCOSSd",
        "outputId": "5d365fb2-862e-4748-ffdf-6a8f80816945"
      },
      "execution_count": null,
      "outputs": [
        {
          "output_type": "stream",
          "name": "stdout",
          "text": [
            "22.6 :  72.68\n",
            "25.8 :  78.44\n",
            "27.3 :  81.14\n",
            "29.8 :  85.64\n"
          ]
        }
      ]
    },
    {
      "cell_type": "code",
      "source": [
        "df = pd.read_csv(\"/content/samplefilehub.txt\", error_bad_lines=False)\n",
        "print(df)"
      ],
      "metadata": {
        "colab": {
          "base_uri": "https://localhost:8080/"
        },
        "id": "_Hq8TMwNOUaP",
        "outputId": "765d29a0-b837-4b41-94fd-092755c1d59d"
      },
      "execution_count": null,
      "outputs": [
        {
          "output_type": "stream",
          "name": "stdout",
          "text": [
            "                           Lorem ipsum dolor sit amet  \\\n",
            "0   Nunc viverra imperdiet enim. Fusce est. Vivamu...   \n",
            "1   Pellentesque habitant morbi tristique senectus...   \n",
            "2   Aenean nec lorem. In porttitor. Donec laoreet ...   \n",
            "3                               Suspendisse dui purus   \n",
            "4   Fusce aliquet pede non pede. Suspendisse dapib...   \n",
            "..                                                ...   \n",
            "83  Donec ullamcorper fringilla eros. Fusce in sap...   \n",
            "84  Cras faucibus condimentum odio. Sed ac ligula....   \n",
            "85  Etiam at ligula et tellus ullamcorper ultrices...   \n",
            "86  Mauris eleifend nulla eget mauris. Sed cursus ...   \n",
            "87  Cras dapibus dapibus nisl. Vestibulum quis dol...   \n",
            "\n",
            "    consectetuer adipiscing elit. Maecenas porttitor congue massa. Fusce posuere  \\\n",
            "0                                                 NaN                              \n",
            "1                                                 NaN                              \n",
            "2                                                 NaN                              \n",
            "3                                      scelerisque at                              \n",
            "4                                                 NaN                              \n",
            "..                                                ...                              \n",
            "83                            nascetur ridiculus mus.                              \n",
            "84                                                NaN                              \n",
            "85                         lorem non cursus porttitor                              \n",
            "86                                                NaN                              \n",
            "87                                       tristique ac                              \n",
            "\n",
            "    magna sed pulvinar ultricies  \\\n",
            "0                            NaN   \n",
            "1                            NaN   \n",
            "2                            NaN   \n",
            "3                vulputate vitae   \n",
            "4                            NaN   \n",
            "..                           ...   \n",
            "83                           NaN   \n",
            "84                           NaN   \n",
            "85      diam urna accumsan lacus   \n",
            "86                           NaN   \n",
            "87                   tempus eget   \n",
            "\n",
            "                        purus lectus malesuada libero  \\\n",
            "0                                                 NaN   \n",
            "1                                                 NaN   \n",
            "2                                                 NaN   \n",
            "3                                      pretium mattis   \n",
            "4                                                 NaN   \n",
            "..                                                ...   \n",
            "83                                                NaN   \n",
            "84                                                NaN   \n",
            "85   sed interdum wisi nibh nec nisl. Ut tincidunt...   \n",
            "86                                                NaN   \n",
            "87                                       egestas quis   \n",
            "\n",
            "               sit amet commodo magna eros quis urna.  \n",
            "0                                                 NaN  \n",
            "1                                                 NaN  \n",
            "2                                                 NaN  \n",
            "3    nunc. Mauris eget neque at sem venenatis elei...  \n",
            "4                                                 NaN  \n",
            "..                                                ...  \n",
            "83                                                NaN  \n",
            "84                                                NaN  \n",
            "85                                                NaN  \n",
            "86                                                NaN  \n",
            "87                                            mauris.  \n",
            "\n",
            "[88 rows x 5 columns]\n"
          ]
        },
        {
          "output_type": "stream",
          "name": "stderr",
          "text": [
            "/usr/local/lib/python3.9/dist-packages/IPython/core/interactiveshell.py:3326: FutureWarning: The error_bad_lines argument has been deprecated and will be removed in a future version.\n",
            "\n",
            "\n",
            "  exec(code_obj, self.user_global_ns, self.user_ns)\n",
            "b'Skipping line 13: expected 5 fields, saw 8\\nSkipping line 14: expected 5 fields, saw 6\\nSkipping line 27: expected 5 fields, saw 9\\nSkipping line 40: expected 5 fields, saw 8\\nSkipping line 41: expected 5 fields, saw 6\\nSkipping line 54: expected 5 fields, saw 9\\nSkipping line 67: expected 5 fields, saw 8\\nSkipping line 68: expected 5 fields, saw 6\\nSkipping line 81: expected 5 fields, saw 9\\nSkipping line 94: expected 5 fields, saw 8\\nSkipping line 95: expected 5 fields, saw 6\\n'\n"
          ]
        }
      ]
    },
    {
      "cell_type": "code",
      "source": [
        "import math\n",
        "\n",
        "# Quadratwurzel von 16\n",
        "print(math.sqrt(16))\n",
        "\n",
        "# Natürlicher Logarithmus von e\n",
        "print(math.log(math.e))\n",
        "\n",
        "# Exponential von 2\n",
        "print(math.exp(2))\n",
        "\n",
        "# 10er-Logarithmus von 100\n",
        "print(math.log10(100))\n",
        "\n",
        "# Fakultät von 5\n",
        "print(math.factorial(5))\n",
        "\n",
        "# Größter gemeinsamer Teiler von 30 und 567\n",
        "print(math.gcd(30, 567))\n",
        "\n",
        "# Konstante pi\n",
        "print(math.pi)\n",
        "\n",
        "# Konstante e\n",
        "print(math.e)\n"
      ],
      "metadata": {
        "colab": {
          "base_uri": "https://localhost:8080/"
        },
        "id": "cua9WlX5QSW-",
        "outputId": "00cf581d-dbcc-4a56-8c69-7ce4ba05639b"
      },
      "execution_count": null,
      "outputs": [
        {
          "output_type": "stream",
          "name": "stdout",
          "text": [
            "4.0\n",
            "1.0\n",
            "7.38905609893065\n",
            "2.0\n",
            "120\n",
            "3\n",
            "3.141592653589793\n",
            "2.718281828459045\n"
          ]
        }
      ]
    }
  ]
}